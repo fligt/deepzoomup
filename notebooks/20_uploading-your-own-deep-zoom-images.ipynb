{
 "cells": [
  {
   "cell_type": "markdown",
   "metadata": {},
   "source": [
    "# Uploading your own deep zoom images"
   ]
  },
  {
   "cell_type": "markdown",
   "metadata": {},
   "source": [
    "Once you have managed to register a Backblaze cloud storage account and created a public bucket, the hard work is done! \n",
    "\n",
    "Upload your deep zoom image by executing the following code in a Jupyter notebook:  "
   ]
  },
  {
   "cell_type": "markdown",
   "metadata": {},
   "source": [
    "**Step 1** \n",
    "\n",
    "You need to copy your own personal B2 bucket application-key, application-key-id and bucket-name in a notebook cell and run the cell (by pressing Shift-Enter). \n",
    "\n",
    "```Python \n",
    "application_key = \"xxxxxxxxxxxxxxxxxxxxxxxxxxx\" \n",
    "application_key_id = \"yyyyyyyyyyyyyyyyyyyyyyyyyy\"  \n",
    "bucket_name = \"my-first-bucket\" \n",
    "```\n"
   ]
  },
  {
   "cell_type": "markdown",
   "metadata": {},
   "source": [
    "**Step 2** \n",
    "\n",
    "Import the deepzoomup package and connect to your B2 bucket:\n",
    "\n",
    "```Python \n",
    "import deepzoomup \n",
    "my_dzs = deepzoomup.DeepZoomStore(application_key_id, application_key, bucket_name) \n",
    "```"
   ]
  },
  {
   "cell_type": "markdown",
   "metadata": {},
   "source": [
    "**Step 3** \n",
    "\n",
    "Select the image file and upload: \n",
    "\n",
    "```Python \n",
    "my_image = 'path/to/my/huge.tif'\n",
    "my_dzs.make_deepzoom(my_image) \n",
    "```"
   ]
  },
  {
   "cell_type": "markdown",
   "metadata": {},
   "source": [
    "You can repeat this for other images: \n",
    "\n",
    "```Python\n",
    "\n",
    "my_image = 'path/to/another/huge.png' \n",
    "my_dzs.make_deepzoom(my_image)\n",
    "```\n",
    "\n",
    "**That is all!** "
   ]
  },
  {
   "cell_type": "markdown",
   "metadata": {},
   "source": [
    "Now your deep zoom image can be viewed on-line: *need-to-provide-weblink*.  \n",
    "\n",
    "If you would like to create more advanced viewers for viewing multiple images simultaneously, read the next page. "
   ]
  }
 ],
 "metadata": {
  "kernelspec": {
   "display_name": "Python 3",
   "language": "python",
   "name": "python3"
  }
 },
 "nbformat": 4,
 "nbformat_minor": 2
}
