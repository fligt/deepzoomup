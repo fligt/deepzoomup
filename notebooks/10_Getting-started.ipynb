{
 "cells": [
  {
   "cell_type": "markdown",
   "metadata": {},
   "source": [
    "# Getting started\n",
    "\n",
    "> A few things you need to do first "
   ]
  },
  {
   "cell_type": "markdown",
   "metadata": {},
   "source": [
    "I assume you have Python installed and know how to run Jupyter notebooks. See: https://anaconda.org/. \n",
    "\n",
    "1) Install the package by typing the following command in the terminal: \n",
    "\n",
    "    $ pip install deepzoomup (almost available!) \n",
    "\n",
    "2) Get an account for cloud storage at Backblaze B2. \n",
    "\n",
    "3) Create a public B2 bucket with credentials (id and key) for reading and writing. \n",
    "\n",
    "4) Follow the instructions [Uploading your own deep zoom image](https://fligt.github.io/deepzoomup/uploading/)\n"
   ]
  }
 ],
 "metadata": {
  "kernelspec": {
   "display_name": "Python 3",
   "language": "python",
   "name": "python3"
  }
 },
 "nbformat": 4,
 "nbformat_minor": 2
}
