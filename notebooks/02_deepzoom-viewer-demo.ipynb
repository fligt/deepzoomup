{
 "cells": [
  {
   "cell_type": "markdown",
   "metadata": {},
   "source": [
    "# Deepzoom viewer demo  "
   ]
  },
  {
   "cell_type": "markdown",
   "metadata": {},
   "source": [
    "## How to create a deep zoom multi-image viewer "
   ]
  },
  {
   "cell_type": "markdown",
   "metadata": {},
   "source": [
    "Ok, you have created and uploaded your deep zoom image tiles to your own cloud storage. Now you would like to actually view them. Here is how to do that. Simply embed the following code snippet into your web page. \n",
    "\n",
    "    <div id=\"openseadragon1_dzi\" style=\"width: 800px; height: 500px; background-color: snow\"></div> \n",
    "\n",
    "    <script src=\"https://cdnjs.cloudflare.com/ajax/libs/openseadragon/2.4.2/openseadragon.min.js\" \n",
    "            integrity=\"sha512-qvQYH6mPuE46uFcWLI8BdGaJpB5taX4lltbSIw5GF4iODh2xIgyz5ii1WpuzPFUknHCps0mi4mFGR44bjdZlZg==\" \n",
    "            crossorigin=\"anonymous\">\n",
    "    </script>\n",
    "\n",
    "    <script type=\"text/javascript\">\n",
    "    var viewer = OpenSeadragon({\n",
    "        id: \"openseadragon1_dzi\",\n",
    "        prefixUrl: \"https://cdnjs.cloudflare.com/ajax/libs/openseadragon/2.4.2/images/\", \n",
    "        tileSources: [\n",
    "        \"https://f002.backblazeb2.com/file/dore-data/deepzoom/dzp_RP-T-1930-22_highres/RP-T-1930-22_highres.dzi\", \n",
    "        \"https://f002.backblazeb2.com/file/dore-data/deepzoom/dzp_RP-T-1930-9_Trans-Recto/RP-T-1930-9_Trans-Recto.dzi\"], \n",
    "        sequenceMode: true,\n",
    "        preserveViewport: true,\n",
    "        showReferenceStrip: true,\n",
    "        showNavigator: true\n",
    "     });\n",
    "    </script>\n",
    "    "
   ]
  },
  {
   "cell_type": "markdown",
   "metadata": {},
   "source": [
    "demo here: \n",
    "\n",
    "<div id=\"openseadragon1_dzi\" style=\"width: 800px; height: 500px; background-color: snow\"></div> \n",
    "\n",
    "<script src=\"https://cdnjs.cloudflare.com/ajax/libs/openseadragon/2.4.2/openseadragon.min.js\" \n",
    "        integrity=\"sha512-qvQYH6mPuE46uFcWLI8BdGaJpB5taX4lltbSIw5GF4iODh2xIgyz5ii1WpuzPFUknHCps0mi4mFGR44bjdZlZg==\" \n",
    "        crossorigin=\"anonymous\">\n",
    "</script>\n",
    "\n",
    "<script type=\"text/javascript\">\n",
    "var viewer = OpenSeadragon({\n",
    "    id: \"openseadragon1_dzi\",\n",
    "    prefixUrl: \"https://cdnjs.cloudflare.com/ajax/libs/openseadragon/2.4.2/images/\", \n",
    "    tileSources: [\n",
    "    \"https://f002.backblazeb2.com/file/dore-data/deepzoom/dzp_RP-T-1930-22_highres/RP-T-1930-22_highres.dzi\", \n",
    "    \"https://f002.backblazeb2.com/file/dore-data/deepzoom/dzp_RP-T-1930-9_Trans-Recto/RP-T-1930-9_Trans-Recto.dzi\"], \n",
    "    sequenceMode: true,\n",
    "    preserveViewport: true,\n",
    "    showReferenceStrip: true,\n",
    "    showNavigator: true\n",
    " });\n",
    "</script>"
   ]
  }
 ],
 "metadata": {
  "kernelspec": {
   "display_name": "Python 3",
   "language": "python",
   "name": "python3"
  }
 },
 "nbformat": 4,
 "nbformat_minor": 2
}
