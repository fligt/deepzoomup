{
 "cells": [
  {
   "cell_type": "code",
   "execution_count": null,
   "metadata": {},
   "outputs": [],
   "source": [
    "#hide \n",
    "import os\n",
    "os.chdir('/home/frank/Work/Projecten/DoRe/data/hasselblad/RP-T-1898-A-3689')\n",
    "\n",
    "from myb2keys import Deepzoom_demo as mykeys\n",
    "\n",
    "application_key_id = mykeys.application_key_id\n",
    "application_key = mykeys.application_key\n",
    "bucket_name = mykeys.bucket_name"
   ]
  },
  {
   "cell_type": "markdown",
   "metadata": {},
   "source": [
    "# Viewing your deep zoom images \n",
    "\n",
    "> Creating a web viewer"
   ]
  },
  {
   "cell_type": "markdown",
   "metadata": {},
   "source": [
    "Ok, you have created and uploaded your deep zoom image tiles to your own cloud storage. Now you would like to actually view them. More precisely, you would like to create a web page with a viewer, so that your colleagues can also take a look. Even better would be to create a multi-image viewer. \n",
    "\n",
    "\n",
    "We first need to check which images are available in the cloud storage using the `DeepZoomBucket.list_names()` method. "
   ]
  },
  {
   "cell_type": "code",
   "execution_count": null,
   "metadata": {},
   "outputs": [
    {
     "data": {
      "text/plain": [
       "['RP-T-1898-A-3689_Recto', 'RP-T-1898-A-3689_Trans-Recto']"
      ]
     },
     "execution_count": null,
     "metadata": {},
     "output_type": "execute_result"
    }
   ],
   "source": [
    "from deepzoomup import DeepZoomBucket \n",
    "\n",
    "dzb = DeepZoomBucket(application_key_id, application_key, bucket_name)\n",
    "\n",
    "dzb.list_names()"
   ]
  },
  {
   "cell_type": "markdown",
   "metadata": {},
   "source": [
    "Now, we can create a html snippet for the images we want to include. "
   ]
  },
  {
   "cell_type": "code",
   "execution_count": null,
   "metadata": {},
   "outputs": [
    {
     "name": "stdout",
     "output_type": "stream",
     "text": [
      "<script src=\"https://cdnjs.cloudflare.com/ajax/libs/openseadragon/2.4.2/openseadragon.min.js\"\n",
      "integrity=\"sha512-qvQYH6mPuE46uFcWLI8BdGaJpB5taX4lltbSIw5GF4iODh2xIgyz5ii1WpuzPFUknHCps0mi4mFGR44bjdZlZg==\"\n",
      "crossorigin=\"anonymous\">\n",
      "</script>\n",
      "\n",
      "<script type=\"text/javascript\">\n",
      "var viewer = OpenSeadragon({\n",
      "id: \"openseadragon1_dzi\",\n",
      "prefixUrl: \"https://cdnjs.cloudflare.com/ajax/libs/openseadragon/2.4.2/images/\",\n",
      "tileSources: [\n",
      " \"https://f002.backblazeb2.com/file/deepzoom-demo/deepzoom/dzp_RP-T-1898-A-3689_Recto/RP-T-1898-A-3689_Recto.dzi\",\n",
      " \"https://f002.backblazeb2.com/file/deepzoom-demo/deepzoom/dzp_RP-T-1898-A-3689_Trans-Recto/RP-T-1898-A-3689_Trans-Recto.dzi\"],\n",
      "sequenceMode: true,\n",
      "preserveViewport: true,\n",
      "showReferenceStrip: true,\n",
      "showNavigator: true\n",
      "});\n",
      "</script>\n",
      "\n",
      "<div id=\"openseadragon1_dzi\" style=\"width: 800px; height: 500px; background-color: snow\"></div>\n",
      "\n"
     ]
    }
   ],
   "source": [
    "html_snippet = dzb.make_html_snippet(['RP-T-1898-A-3689_Recto', 'RP-T-1898-A-3689_Trans-Recto'])\n",
    "print(html_snippet)"
   ]
  },
  {
   "cell_type": "markdown",
   "metadata": {},
   "source": [
    "And here is the result when embedded in a web page: \n",
    "\n",
    "<div id=\"openseadragon1_dzi\" style=\"width: 800px; height: 500px; background-color: snow\"></div>\n",
    "\n",
    "<script src=\"https://cdnjs.cloudflare.com/ajax/libs/openseadragon/2.4.2/openseadragon.min.js\" \n",
    "integrity=\"sha512-qvQYH6mPuE46uFcWLI8BdGaJpB5taX4lltbSIw5GF4iODh2xIgyz5ii1WpuzPFUknHCps0mi4mFGR44bjdZlZg==\" \n",
    "crossorigin=\"anonymous\"> \n",
    "</script>\n",
    " \n",
    "<script type=\"text/javascript\"> \n",
    "var viewer = OpenSeadragon({\n",
    "id: \"openseadragon1_dzi\",\n",
    "prefixUrl: \"https://cdnjs.cloudflare.com/ajax/libs/openseadragon/2.4.2/images/\",\n",
    "tileSources: [\n",
    " \"https://f002.backblazeb2.com/file/deepzoom-demo/deepzoom/dzp_RP-T-1898-A-3689_Recto/RP-T-1898-A-3689_Recto.dzi\",\n",
    " \"https://f002.backblazeb2.com/file/deepzoom-demo/deepzoom/dzp_RP-T-1898-A-3689_Trans-Recto/RP-T-1898-A-3689_Trans-Recto.dzi\"],\n",
    "sequenceMode: true,\n",
    "preserveViewport: true,\n",
    "showReferenceStrip: true,\n",
    "showNavigator: true\n",
    "});\n",
    "</script>\n",
    "\n"
   ]
  },
  {
   "cell_type": "markdown",
   "metadata": {},
   "source": [
    "For more information about this javascript code see: [openseadragon](https://openseadragon.github.io/). "
   ]
  }
 ],
 "metadata": {
  "kernelspec": {
   "display_name": "Python 3",
   "language": "python",
   "name": "python3"
  }
 },
 "nbformat": 4,
 "nbformat_minor": 2
}
