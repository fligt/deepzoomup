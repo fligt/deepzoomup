{
 "cells": [
  {
   "cell_type": "markdown",
   "metadata": {},
   "source": [
    "# Welcome to dzi2b2"
   ]
  },
  {
   "cell_type": "markdown",
   "metadata": {},
   "source": [
    "> Publish your high resolution images on line as deep zoom images (dzi) to the Backblaze (b2) cloud. "
   ]
  },
  {
   "cell_type": "markdown",
   "metadata": {},
   "source": [
    "## Install"
   ]
  },
  {
   "cell_type": "markdown",
   "metadata": {},
   "source": [
    "Available soon! "
   ]
  },
  {
   "cell_type": "markdown",
   "metadata": {},
   "source": [
    "## How to use"
   ]
  },
  {
   "cell_type": "markdown",
   "metadata": {},
   "source": [
    "<script src=\"https://cdnjs.cloudflare.com/ajax/libs/openseadragon/2.4.2/openseadragon.min.js\" \n",
    "        integrity=\"sha512-qvQYH6mPuE46uFcWLI8BdGaJpB5taX4lltbSIw5GF4iODh2xIgyz5ii1WpuzPFUknHCps0mi4mFGR44bjdZlZg==\" \n",
    "        crossorigin=\"anonymous\">\n",
    "</script>\n",
    "\n",
    "<div id=\"xyx\" style=\"width: 800px; height: 400px; background-color: snow\"></div>\n",
    "<script src=\"https://dore-data.s3.us-west-002.backblazeb2.com/viewers/xxx.js?callback=OpenSeadragon\"></script>"
   ]
  },
  {
   "cell_type": "code",
   "execution_count": null,
   "metadata": {},
   "outputs": [],
   "source": []
  }
 ],
 "metadata": {
  "kernelspec": {
   "display_name": "Python 3",
   "language": "python",
   "name": "python3"
  }
 },
 "nbformat": 4,
 "nbformat_minor": 2
}
