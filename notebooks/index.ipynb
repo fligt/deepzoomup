{
 "cells": [
  {
   "cell_type": "markdown",
   "metadata": {},
   "source": [
    "# Welcome to deepzoomup \n",
    "\n",
    "> Easily share your high resolution photos as deep zoom images with the world. "
   ]
  },
  {
   "cell_type": "markdown",
   "metadata": {},
   "source": [
    "The ability to create and share web based high resolution interactive deep zoom images is a basic need in almost any heritage science project. Unfortunately this used to be a technically demanding job, out of reach for mortals with limited coding skills. Until now... \n",
    "\n",
    "\n",
    "This python package `deepzoomup` can convert your high resolution images and and publish them on-line as interactive deep zoom images on your Backblaze cloud storage. "
   ]
  },
  {
   "cell_type": "markdown",
   "metadata": {},
   "source": [
    "# What you need to do "
   ]
  },
  {
   "cell_type": "markdown",
   "metadata": {},
   "source": [
    "I assume you have Python installed and know how to run Jupyter notebooks. See: https://anaconda.org/. \n",
    "\n",
    "1) Install the package by typing the following command in the terminal: \n",
    "\n",
    "    $ pip install deepzoomup (almost available!) \n",
    "\n",
    "2) Get an account for cloud storage at Backblaze B2. \n",
    "\n",
    "3) Create a public B2 bucket with credentials (id and key) for reading and writing. \n",
    "\n",
    "4) Follow the instructions [Uploading your own deep zoom image](https://fligt.github.io/deepzoomup/uploading/)\n",
    "\n"
   ]
  },
  {
   "cell_type": "markdown",
   "metadata": {},
   "source": [
    "Here is an example of a cloud stored image that was created with *deepzoomup*: \n",
    "\n",
    "\n",
    "<a href=\"https://f002.backblazeb2.com/file/dore-data/deepzoom/dzp_RP-T-1930-22_highres/RP-T-1930-22_highres_view.html\" target=\"_blank\">\n",
    "    <img src=\"https://f002.backblazeb2.com/file/dore-data/deepzoom/dzp_RP-T-1930-22_highres/tn_RP-T-1930-22_highres.png\" title=\"click image to open deepzoom viewer\">\n",
    "</a>\n",
    "\n"
   ]
  }
 ],
 "metadata": {
  "kernelspec": {
   "display_name": "Python 3",
   "language": "python",
   "name": "python3"
  }
 },
 "nbformat": 4,
 "nbformat_minor": 2
}
