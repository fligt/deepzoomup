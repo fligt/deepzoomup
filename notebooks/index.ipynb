{
 "cells": [
  {
   "cell_type": "markdown",
   "metadata": {},
   "source": [
    "# Welcome to deepzoomup \n",
    "\n",
    "> Easily share your high resolution photos as deep zoom images with the world! "
   ]
  },
  {
   "cell_type": "markdown",
   "metadata": {},
   "source": [
    "The ability to create and share web based high resolution interactive deep zoom images is a basic need in almost any heritage science project. Unfortunately this used to be a technically demanding job, out of reach for mortals with limited coding skills. Until now.  \n",
    "\n",
    "With the python package `deepzoomup` you can share your beautiful high resolution images via the web with just a few lines of code. Within a few minutes, convert your high resolution image files into deep zoom image tiles, upload them to your [Backblaze](https://www.backblaze.com/) cloud storage, and share with the world! "
   ]
  },
  {
   "cell_type": "markdown",
   "metadata": {},
   "source": [
    "Here is an example of a cloud stored image that was created with *deepzoomup*: "
   ]
  },
  {
   "cell_type": "markdown",
   "metadata": {},
   "source": [
    "<a href=\"https://f002.backblazeb2.com/file/dore-data/deepzoom/dzp_RP-T-1930-22_highres/RP-T-1930-22_highres_view.html\" target=\"_blank\">\n",
    "    <img src=\"https://f002.backblazeb2.com/file/dore-data/deepzoom/dzp_RP-T-1930-22_highres/tn_RP-T-1930-22_highres.png\" title=\"click image to open deepzoom viewer\">\n",
    "</a>"
   ]
  },
  {
   "cell_type": "markdown",
   "metadata": {},
   "source": [
    "*One of the Three Kings Adoring the Virgin and Child*, Rembrandt van Rijn, c.1635 - c.1640; Rijksmuseum Amsterdam catalog number [RP-T-1930-22](https://www.rijksmuseum.nl/en/collection/RP-T-1930-22/catalogue-entry)\n",
    "\n",
    "For installation instructions, documentation and code see: https://fligt.github.io/deepzoomup/"
   ]
  },
  {
   "cell_type": "code",
   "execution_count": null,
   "metadata": {},
   "outputs": [],
   "source": []
  }
 ],
 "metadata": {
  "kernelspec": {
   "display_name": "Python 3",
   "language": "python",
   "name": "python3"
  }
 },
 "nbformat": 4,
 "nbformat_minor": 2
}
